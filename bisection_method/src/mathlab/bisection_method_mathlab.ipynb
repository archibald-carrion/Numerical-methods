{
 "cells": [
  {
   "cell_type": "markdown",
   "metadata": {},
   "source": [
    "\n",
    "\n",
    "Use example\n"
   ]
  },
  {
   "cell_type": "code",
   "execution_count": 1,
   "metadata": {},
   "outputs": [
    {
     "data": {
      "text/plain": [
       "    k       a         c         b          f(a)           f(b)          f(c)    \n",
       "    __    ______    ______    ______    ___________    __________    ___________\n",
       "     0         1       1.5         2             -1             2           0.25\n",
       "     1         1      1.25       1.5             -1          0.25        -0.4375\n",
       "     2      1.25     1.375       1.5        -0.4375          0.25       -0.10938\n",
       "     3     1.375    1.4375       1.5       -0.10938          0.25       0.066406\n",
       "     4     1.375    1.4062    1.4375       -0.10938      0.066406      -0.022461\n",
       "     5    1.4062    1.4219    1.4375      -0.022461      0.066406       0.021729\n",
       "     6    1.4062    1.4141    1.4219      -0.022461      0.021729    -0.00042725\n",
       "     7    1.4141     1.418    1.4219    -0.00042725      0.021729       0.010635\n",
       "     8    1.4141     1.416     1.418    -0.00042725      0.010635      0.0051003\n",
       "     9    1.4141     1.415     1.416    -0.00042725     0.0051003      0.0023355\n",
       "    10    1.4141    1.4146     1.415    -0.00042725     0.0023355     0.00095391\n",
       "    11    1.4141    1.4143    1.4146    -0.00042725    0.00095391     0.00026327\n",
       "    12    1.4141    1.4142    1.4143    -0.00042725    0.00026327    -8.2001e-05\n",
       "    13    1.4142    1.4142    1.4143    -8.2001e-05    0.00026327     9.0633e-05\n",
       "    14    1.4142    1.4142    1.4142    -8.2001e-05    9.0633e-05     4.3148e-06\n",
       "    15    1.4142    1.4142    1.4142    -8.2001e-05    4.3148e-06    -3.8843e-05\n",
       "    16    1.4142    1.4142    1.4142    -3.8843e-05    4.3148e-06    -1.7264e-05\n",
       "    17    1.4142    1.4142    1.4142    -1.7264e-05    4.3148e-06    -6.4748e-06"
      ]
     },
     "execution_count": 1,
     "metadata": {},
     "output_type": "execute_result"
    }
   ],
   "source": [
    "f = @(x) x^2 - 2; % typical class example\n",
    "[c, iters, err, table] = BisectionMethod(f, 1, 2, 1e-5);\n",
    "disp(table)"
   ]
  },
  {
   "cell_type": "code",
   "execution_count": 2,
   "metadata": {},
   "outputs": [
    {
     "data": {
      "text/plain": [
       "Root: 1.414211, Error Estimate: 7.629395e-06, Iterations: 17"
      ]
     },
     "execution_count": 2,
     "metadata": {},
     "output_type": "execute_result"
    }
   ],
   "source": [
    "fprintf('Root: %.6f, Error Estimate: %.6e, Iterations: %d\\n', c, err, iters);"
   ]
  },
  {
   "cell_type": "markdown",
   "metadata": {},
   "source": [
    "\n",
    "\n",
    "\n",
    "Function\n"
   ]
  },
  {
   "cell_type": "code",
   "execution_count": null,
   "metadata": {},
   "outputs": [],
   "source": [
    "function [c, maxIterations, errorEstimate, resultTable] = BisectionMethod(f, a, b, tolerance)\n",
    "% BisectionMethod finds a root of the function f in the interval [a, b]\n",
    "% using the Bisection method up to a given tolerance.\n",
    "%\n",
    "% Inputs:\n",
    "%   f         - Function handle (e.g., @(x) x^2 - 2)\n",
    "%   a, b      - Interval endpoints (a < b)\n",
    "%   tolerance - Stopping tolerance for the method\n",
    "%\n",
    "% Outputs:\n",
    "%   c              - Approximate root\n",
    "%   maxIterations  - Number of iterations performed\n",
    "%   errorEstimate  - Final interval size (b - a)\n",
    "%   resultTable    - Table of iteration steps\n",
    "\n",
    "    if f(a) * f(b) > 0\n",
    "        disp('Error: Function must change sign over the interval [a, b].');\n",
    "        return\n",
    "    end\n",
    "\n",
    "    maxIterations = floor(log2((b - a) / tolerance)) + 1;\n",
    "\n",
    "    % Initialize result table\n",
    "    resultTable(1,:) = zeros(1, 7);\n",
    "\n",
    "    % Perform Bisection iterations\n",
    "    for k = 1:maxIterations\n",
    "        c = (a + b) / 2;  % Midpoint\n",
    "\n",
    "        % Store iteration data\n",
    "        resultTable(k,:) = [k - 1, a, c, b, f(a), f(b), f(c)];\n",
    "\n",
    "        % Check which subinterval contains the root\n",
    "        if f(c) == 0\n",
    "            a = c;\n",
    "            b = c;\n",
    "        elseif f(a) * f(c) < 0\n",
    "            b = c;\n",
    "        else\n",
    "            a = c;\n",
    "        end\n",
    "    end\n",
    "\n",
    "    % Final midpoint and error estimate\n",
    "    c = (a + b) / 2;\n",
    "    resultTable(maxIterations + 1, :) = [maxIterations, a, c, b, f(a), f(b), f(c)];\n",
    "    resultTable = array2table(resultTable, ...\n",
    "        \"VariableNames\", {'k', 'a', 'c', 'b', 'f(a)', 'f(b)', 'f(c)'});\n",
    "\n",
    "    errorEstimate = b - a;\n",
    "end\n"
   ]
  }
 ],
 "metadata": {
  "kernelspec": {
   "display_name": "MATLAB (matlabkernel)",
   "language": "matlab",
   "name": "matlab"
  },
  "language_info": {
   "file_extension": ".m",
   "mimetype": "text/matlab",
   "name": "matlab",
   "nbconvert_exporter": "matlab",
   "pygments_lexer": "matlab",
   "version": "24.2.0.2871072"
  }
 },
 "nbformat": 4,
 "nbformat_minor": 4
}
